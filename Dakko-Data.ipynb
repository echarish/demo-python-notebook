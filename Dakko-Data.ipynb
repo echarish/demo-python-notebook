{
 "cells": [
  {
   "cell_type": "code",
   "execution_count": null,
   "metadata": {},
   "outputs": [],
   "source": [
    "# %pip install delta-sharing pyspark\n",
    "%pip install delta-sharing matplotlib"
   ]
  },
  {
   "cell_type": "code",
   "execution_count": null,
   "metadata": {},
   "outputs": [],
   "source": [
    "import delta_sharing as DakkoDatalake\n",
    "# from pyspark.sql.functions import sum, col\n",
    "import matplotlib.pyplot as plt"
   ]
  },
  {
   "cell_type": "code",
   "execution_count": null,
   "metadata": {},
   "outputs": [],
   "source": [
    "share_file_path = \"./configs/shareconfig/config.share\""
   ]
  },
  {
   "cell_type": "code",
   "execution_count": null,
   "metadata": {},
   "outputs": [],
   "source": [
    "# Create a SharingClient\n",
    "client = DakkoDatalake.SharingClient(share_file_path)\n",
    " \n",
    "# List all shared tables.\n",
    "client.list_all_tables()"
   ]
  },
  {
   "cell_type": "code",
   "execution_count": null,
   "metadata": {},
   "outputs": [],
   "source": [
    "shares = client.list_shares()\n",
    " \n",
    "for share in shares:\n",
    "  schemas = client.list_schemas(share)\n",
    "  for schema in schemas:\n",
    "    tables = client.list_tables(schema)\n",
    "    for table in tables:\n",
    "      print(f'name = {table.name}, share = {table.share}, schema = {table.schema}')"
   ]
  },
  {
   "cell_type": "code",
   "execution_count": null,
   "metadata": {},
   "outputs": [],
   "source": [
    "table_url = f\"{share_file_path}#poc-client.ethereum.raw_transactions\"\n",
    " \n",
    "# Use delta sharing client to load data\n",
    "pandas_df = DakkoDatalake.load_as_pandas(table_url)\n",
    " \n",
    "pandas_df.head(10)"
   ]
  },
  {
   "cell_type": "code",
   "execution_count": null,
   "metadata": {},
   "outputs": [],
   "source": [
    "# Function to convert hexadecimal strings to decimal integers\n",
    "def hex_to_decimal(hex_string):\n",
    "    return int(hex_string, 16)\n",
    "\n",
    "# Apply the conversion to the Price column\n",
    "pandas_df['gas_decimal'] = pandas_df['gas'].apply(hex_to_decimal)\n",
    "pandas_df['gasPrice_decimal'] = pandas_df['gasPrice'].apply(hex_to_decimal)\n",
    "pandas_df['value_decimal'] = pandas_df['gasPrice'].apply(hex_to_decimal)\n",
    "\n",
    "# Group by item and calculate mean and sum of price and quantity\n",
    "grouped_df = pandas_df.groupby('to').agg(mean_price=('gas_decimal', 'mean'), sum_quantity=('gasPrice_decimal', 'sum'))\n",
    "\n",
    "# Print the grouped DataFrame\n",
    "print(grouped_df)\n"
   ]
  },
  {
   "cell_type": "code",
   "execution_count": null,
   "metadata": {},
   "outputs": [],
   "source": [
    "\n",
    "# Create a bar chart of the mean price for each item\n",
    "plt.bar(grouped_df.index, grouped_df['mean_price'])\n",
    "plt.xlabel('Item')\n",
    "plt.ylabel('Mean Price')\n",
    "plt.title('Mean Price of Items')\n",
    "plt.show()"
   ]
  },
  {
   "cell_type": "code",
   "execution_count": null,
   "metadata": {},
   "outputs": [],
   "source": [
    "# # Create a pie chart of the sum quantity for each item\n",
    "plt.pie(pandas_df['gas_decimal'], labels=pandas_df.index, autopct='%1.1f%%')\n",
    "plt.title('Sum Quantity of Items')\n",
    "plt.show()"
   ]
  },
  {
   "cell_type": "code",
   "execution_count": null,
   "metadata": {},
   "outputs": [],
   "source": []
  }
 ],
 "metadata": {
  "kernelspec": {
   "display_name": "Python 3",
   "language": "python",
   "name": "python3"
  },
  "language_info": {
   "codemirror_mode": {
    "name": "ipython",
    "version": 3
   },
   "file_extension": ".py",
   "mimetype": "text/x-python",
   "name": "python",
   "nbconvert_exporter": "python",
   "pygments_lexer": "ipython3",
   "version": "3.11.7"
  }
 },
 "nbformat": 4,
 "nbformat_minor": 2
}
